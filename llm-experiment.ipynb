{
  "cells": [
    {
      "cell_type": "markdown",
      "source": [
        "Clone github repo to have access to data files."
      ],
      "metadata": {
        "id": "5cIkMDLZXNhQ"
      },
      "id": "5cIkMDLZXNhQ"
    },
    {
      "cell_type": "code",
      "source": [
        "!git clone https://github.com/Hananxx/SentimentAnalysisPromptExp.git"
      ],
      "metadata": {
        "id": "iQX7G_GuXHOc",
        "outputId": "d50d5233-824d-4e42-8d77-e48ef5b50136",
        "colab": {
          "base_uri": "https://localhost:8080/"
        }
      },
      "id": "iQX7G_GuXHOc",
      "execution_count": 1,
      "outputs": [
        {
          "output_type": "stream",
          "name": "stdout",
          "text": [
            "Cloning into 'SentimentAnalysisPromptExp'...\n",
            "remote: Enumerating objects: 23, done.\u001b[K\n",
            "remote: Counting objects: 100% (23/23), done.\u001b[K\n",
            "remote: Compressing objects: 100% (18/18), done.\u001b[K\n",
            "remote: Total 23 (delta 8), reused 9 (delta 2), pack-reused 0 (from 0)\u001b[K\n",
            "Receiving objects: 100% (23/23), 39.42 KiB | 4.38 MiB/s, done.\n",
            "Resolving deltas: 100% (8/8), done.\n"
          ]
        }
      ]
    },
    {
      "cell_type": "markdown",
      "id": "46a7dabf",
      "metadata": {
        "id": "46a7dabf"
      },
      "source": [
        "### Install and import needed packages"
      ]
    },
    {
      "cell_type": "code",
      "execution_count": 2,
      "id": "1ef91428",
      "metadata": {
        "vscode": {
          "languageId": "plaintext"
        },
        "id": "1ef91428",
        "outputId": "77f7d16d-49b0-407f-8bf7-3bcaaefea643",
        "colab": {
          "base_uri": "https://localhost:8080/"
        },
        "collapsed": true
      },
      "outputs": [
        {
          "output_type": "stream",
          "name": "stdout",
          "text": [
            "Requirement already satisfied: transformers in /usr/local/lib/python3.12/dist-packages (4.56.1)\n",
            "Requirement already satisfied: torch in /usr/local/lib/python3.12/dist-packages (2.8.0+cu126)\n",
            "Requirement already satisfied: pandas in /usr/local/lib/python3.12/dist-packages (2.2.2)\n",
            "Requirement already satisfied: accelerate in /usr/local/lib/python3.12/dist-packages (1.10.1)\n",
            "Requirement already satisfied: filelock in /usr/local/lib/python3.12/dist-packages (from transformers) (3.19.1)\n",
            "Requirement already satisfied: huggingface-hub<1.0,>=0.34.0 in /usr/local/lib/python3.12/dist-packages (from transformers) (0.35.0)\n",
            "Requirement already satisfied: numpy>=1.17 in /usr/local/lib/python3.12/dist-packages (from transformers) (2.0.2)\n",
            "Requirement already satisfied: packaging>=20.0 in /usr/local/lib/python3.12/dist-packages (from transformers) (25.0)\n",
            "Requirement already satisfied: pyyaml>=5.1 in /usr/local/lib/python3.12/dist-packages (from transformers) (6.0.2)\n",
            "Requirement already satisfied: regex!=2019.12.17 in /usr/local/lib/python3.12/dist-packages (from transformers) (2024.11.6)\n",
            "Requirement already satisfied: requests in /usr/local/lib/python3.12/dist-packages (from transformers) (2.32.4)\n",
            "Requirement already satisfied: tokenizers<=0.23.0,>=0.22.0 in /usr/local/lib/python3.12/dist-packages (from transformers) (0.22.0)\n",
            "Requirement already satisfied: safetensors>=0.4.3 in /usr/local/lib/python3.12/dist-packages (from transformers) (0.6.2)\n",
            "Requirement already satisfied: tqdm>=4.27 in /usr/local/lib/python3.12/dist-packages (from transformers) (4.67.1)\n",
            "Requirement already satisfied: typing-extensions>=4.10.0 in /usr/local/lib/python3.12/dist-packages (from torch) (4.15.0)\n",
            "Requirement already satisfied: setuptools in /usr/local/lib/python3.12/dist-packages (from torch) (75.2.0)\n",
            "Requirement already satisfied: sympy>=1.13.3 in /usr/local/lib/python3.12/dist-packages (from torch) (1.13.3)\n",
            "Requirement already satisfied: networkx in /usr/local/lib/python3.12/dist-packages (from torch) (3.5)\n",
            "Requirement already satisfied: jinja2 in /usr/local/lib/python3.12/dist-packages (from torch) (3.1.6)\n",
            "Requirement already satisfied: fsspec in /usr/local/lib/python3.12/dist-packages (from torch) (2025.3.0)\n",
            "Requirement already satisfied: nvidia-cuda-nvrtc-cu12==12.6.77 in /usr/local/lib/python3.12/dist-packages (from torch) (12.6.77)\n",
            "Requirement already satisfied: nvidia-cuda-runtime-cu12==12.6.77 in /usr/local/lib/python3.12/dist-packages (from torch) (12.6.77)\n",
            "Requirement already satisfied: nvidia-cuda-cupti-cu12==12.6.80 in /usr/local/lib/python3.12/dist-packages (from torch) (12.6.80)\n",
            "Requirement already satisfied: nvidia-cudnn-cu12==9.10.2.21 in /usr/local/lib/python3.12/dist-packages (from torch) (9.10.2.21)\n",
            "Requirement already satisfied: nvidia-cublas-cu12==12.6.4.1 in /usr/local/lib/python3.12/dist-packages (from torch) (12.6.4.1)\n",
            "Requirement already satisfied: nvidia-cufft-cu12==11.3.0.4 in /usr/local/lib/python3.12/dist-packages (from torch) (11.3.0.4)\n",
            "Requirement already satisfied: nvidia-curand-cu12==10.3.7.77 in /usr/local/lib/python3.12/dist-packages (from torch) (10.3.7.77)\n",
            "Requirement already satisfied: nvidia-cusolver-cu12==11.7.1.2 in /usr/local/lib/python3.12/dist-packages (from torch) (11.7.1.2)\n",
            "Requirement already satisfied: nvidia-cusparse-cu12==12.5.4.2 in /usr/local/lib/python3.12/dist-packages (from torch) (12.5.4.2)\n",
            "Requirement already satisfied: nvidia-cusparselt-cu12==0.7.1 in /usr/local/lib/python3.12/dist-packages (from torch) (0.7.1)\n",
            "Requirement already satisfied: nvidia-nccl-cu12==2.27.3 in /usr/local/lib/python3.12/dist-packages (from torch) (2.27.3)\n",
            "Requirement already satisfied: nvidia-nvtx-cu12==12.6.77 in /usr/local/lib/python3.12/dist-packages (from torch) (12.6.77)\n",
            "Requirement already satisfied: nvidia-nvjitlink-cu12==12.6.85 in /usr/local/lib/python3.12/dist-packages (from torch) (12.6.85)\n",
            "Requirement already satisfied: nvidia-cufile-cu12==1.11.1.6 in /usr/local/lib/python3.12/dist-packages (from torch) (1.11.1.6)\n",
            "Requirement already satisfied: triton==3.4.0 in /usr/local/lib/python3.12/dist-packages (from torch) (3.4.0)\n",
            "Requirement already satisfied: python-dateutil>=2.8.2 in /usr/local/lib/python3.12/dist-packages (from pandas) (2.9.0.post0)\n",
            "Requirement already satisfied: pytz>=2020.1 in /usr/local/lib/python3.12/dist-packages (from pandas) (2025.2)\n",
            "Requirement already satisfied: tzdata>=2022.7 in /usr/local/lib/python3.12/dist-packages (from pandas) (2025.2)\n",
            "Requirement already satisfied: psutil in /usr/local/lib/python3.12/dist-packages (from accelerate) (5.9.5)\n",
            "Requirement already satisfied: hf-xet<2.0.0,>=1.1.3 in /usr/local/lib/python3.12/dist-packages (from huggingface-hub<1.0,>=0.34.0->transformers) (1.1.10)\n",
            "Requirement already satisfied: six>=1.5 in /usr/local/lib/python3.12/dist-packages (from python-dateutil>=2.8.2->pandas) (1.17.0)\n",
            "Requirement already satisfied: mpmath<1.4,>=1.1.0 in /usr/local/lib/python3.12/dist-packages (from sympy>=1.13.3->torch) (1.3.0)\n",
            "Requirement already satisfied: MarkupSafe>=2.0 in /usr/local/lib/python3.12/dist-packages (from jinja2->torch) (3.0.2)\n",
            "Requirement already satisfied: charset_normalizer<4,>=2 in /usr/local/lib/python3.12/dist-packages (from requests->transformers) (3.4.3)\n",
            "Requirement already satisfied: idna<4,>=2.5 in /usr/local/lib/python3.12/dist-packages (from requests->transformers) (3.10)\n",
            "Requirement already satisfied: urllib3<3,>=1.21.1 in /usr/local/lib/python3.12/dist-packages (from requests->transformers) (2.5.0)\n",
            "Requirement already satisfied: certifi>=2017.4.17 in /usr/local/lib/python3.12/dist-packages (from requests->transformers) (2025.8.3)\n"
          ]
        }
      ],
      "source": [
        "!pip install transformers torch pandas accelerate"
      ]
    },
    {
      "cell_type": "code",
      "execution_count": 3,
      "id": "889fa6a5",
      "metadata": {
        "vscode": {
          "languageId": "plaintext"
        },
        "id": "889fa6a5"
      },
      "outputs": [],
      "source": [
        "import pandas as pd\n",
        "import json\n",
        "from transformers import pipeline, AutoTokenizer, AutoModelForCausalLM\n",
        "import torch"
      ]
    },
    {
      "cell_type": "markdown",
      "source": [
        "### Set root path for accessing repo files"
      ],
      "metadata": {
        "id": "AQq4LPeJT4FR"
      },
      "id": "AQq4LPeJT4FR"
    },
    {
      "cell_type": "code",
      "source": [
        "file_path_prefix = \"SentimentAnalysisPromptExp/\""
      ],
      "metadata": {
        "id": "T-xyXWocVFvw"
      },
      "id": "T-xyXWocVFvw",
      "execution_count": 11,
      "outputs": []
    },
    {
      "cell_type": "markdown",
      "id": "3e848bad",
      "metadata": {
        "id": "3e848bad"
      },
      "source": [
        "### Load dataset"
      ]
    },
    {
      "cell_type": "code",
      "execution_count": 12,
      "id": "02589b3c",
      "metadata": {
        "vscode": {
          "languageId": "plaintext"
        },
        "id": "02589b3c",
        "outputId": "1ca3a0ff-6f67-47e9-87e7-7284dcebf118",
        "colab": {
          "base_uri": "https://localhost:8080/"
        }
      },
      "outputs": [
        {
          "output_type": "stream",
          "name": "stdout",
          "text": [
            "                                            sentence  label\n",
            "0  package file invalid i had my phone on factory...      2\n",
            "1  iffy nice clean app but sometimes it works and...      2\n",
            "2                        cool just freezes everytime      2\n",
            "3  network error! suddenly after downloading an u...      2\n",
            "4  annoying it let me choose the pictures i want ...      2\n"
          ]
        }
      ],
      "source": [
        "df = pd.read_csv(file_path_prefix + 'data/app.csv')\n",
        "print(df.head())  # Inspect the first few rows"
      ]
    },
    {
      "cell_type": "markdown",
      "source": [
        "### Load prompts"
      ],
      "metadata": {
        "id": "jplWkzR9Xnyw"
      },
      "id": "jplWkzR9Xnyw"
    },
    {
      "cell_type": "code",
      "source": [
        "with open(file_path_prefix + 'prompts/zero-shot-prompt-template.json', 'r') as f:\n",
        "    templates = json.load(f)\n",
        "print(templates)"
      ],
      "metadata": {
        "id": "2NeiQrHnXqZ3",
        "outputId": "1bb32b7f-0fdb-49cb-8946-e635d5f4a0a1",
        "colab": {
          "base_uri": "https://localhost:8080/"
        }
      },
      "id": "2NeiQrHnXqZ3",
      "execution_count": 13,
      "outputs": [
        {
          "output_type": "stream",
          "name": "stdout",
          "text": [
            "{'vicuna-0': \"A chat between a curious user and an artificial intelligence assistant. The assistant gives helpful, detailed, and polite answers to the user's questions.\\nUSER: Please perform Sentiment Classification task. Given the sentence from {}, assign a sentiment label from ['negative', 'neutral', 'positive']. Return label only without any other text.\\nASSISTANT: Sure!</s>\\nUSER: Sentence: {}\\nASSISTANT:\", 'vicuna-jira-0': \"A chat between a curious user and an artificial intelligence assistant. The assistant gives helpful, detailed, and polite answers to the user's questions.\\nUSER: Please perform Sentiment Classification task. Given the sentence from {}, assign a sentiment label from ['negative', 'positive']. Return label only without any other text.\\nASSISTANT: Sure!</s>\\nUSER: Sentence: {}\\nASSISTANT:\", 'llama2-0': \"<s>[INST] <<SYS>>\\nA chat between a curious user and an artificial intelligence assistant. The assistant gives helpful, detailed, and polite answers to the user's questions.\\n<</SYS>>\\nPlease perform Sentiment Classification task. Given the sentence from {}, assign a sentiment label from ['negative', 'neutral', 'positive']. Return label only without any other text.\\n[/INST]\\nSure!\\n</s><s>[INST]\\nSentence: {}\\nLabel:\\n[/INST]\", 'llama2-jira-0': \"<s>[INST] <<SYS>>\\nA chat between a curious user and an artificial intelligence assistant. The assistant gives helpful, detailed, and polite answers to the user's questions.\\n<</SYS>>\\nPlease perform Sentiment Classification task. Given the sentence from {}, assign a sentiment label from ['negative', 'positive']. Return label only without any other text.\\n[/INST]\\nSure!\\n</s><s>[INST]\\nSentence: {}\\nLabel:\\n[/INST]\", 'vicuna-1': \"A chat between a curious user and an artificial intelligence assistant. The assistant gives helpful, detailed, and polite answers to the user's questions.\\nUSER: Please categorize the sentiment expressed in the following sentence from {} as either (1) positive, (2) neutral, or (3) negative.\\nASSISTANT: Sure!</s>\\nUSER: Sentence: {}\\nASSISTANT:\", 'vicuna-jira-1': \"A chat between a curious user and an artificial intelligence assistant. The assistant gives helpful, detailed, and polite answers to the user's questions.\\nUSER: Please categorize the sentiment expressed in the following sentence from {} as either (1) positive or (2) negative.\\nASSISTANT: Sure!</s>\\nUSER: Sentence: {}\\nASSISTANT:\", 'llama2-1': \"<s>[INST] <<SYS>>\\nA chat between a curious user and an artificial intelligence assistant. The assistant gives helpful, detailed, and polite answers to the user's questions.\\n<</SYS>>\\nPlease categorize the sentiment expressed in the following sentence from {} as either (1) positive, (2) neutral, or (3) negative.\\n[/INST]\\nSure!\\n</s><s>[INST]\\nSentence: {}\\nLabel:\\n[/INST]\", 'llama2-jira-1': \"<s>[INST] <<SYS>>\\nA chat between a curious user and an artificial intelligence assistant. The assistant gives helpful, detailed, and polite answers to the user's questions.\\n<</SYS>>\\nPlease categorize the sentiment expressed in the following sentence from {} as either (1) positive or (2) negative.\\n[/INST]\\nSure!\\n</s><s>[INST]\\nSentence: {}\\nLabel:\\n[/INST]\", 'vicuna-2': \"A chat between a curious user and an artificial intelligence assistant. The assistant gives helpful, detailed, and polite answers to the user's questions.\\nUSER: I will give you a sentence from {}. You need to reply with the sentiment expressed in the following sentence, either (1) positive, (2) neutral, or (3) negative.\\nASSISTANT: Sure!</s>\\nUSER: Sentence: {}\\nASSISTANT:\", 'vicuna-jira-2': \"A chat between a curious user and an artificial intelligence assistant. The assistant gives helpful, detailed, and polite answers to the user's questions.\\nUSER: I will give you a sentence from {}. You need to reply with the sentiment expressed in the following sentence, either (1) positive or (2) negative.\\nASSISTANT: Sure!</s>\\nUSER: Sentence: {}\\nASSISTANT:\", 'llama2-2': \"<s>[INST] <<SYS>>\\nA chat between a curious user and an artificial intelligence assistant. The assistant gives helpful, detailed, and polite answers to the user's questions.\\n<</SYS>>\\nI will give you a sentence from {}. You need to reply with the sentiment expressed in the following sentence, either (1) positive, (2) neutral, or (3) negative.\\n[/INST]\\nSure!\\n</s><s>[INST]\\nSentence: {}\\nLabel:\\n[/INST]\", 'llama2-jira-2': \"<s>[INST] <<SYS>>\\nA chat between a curious user and an artificial intelligence assistant. The assistant gives helpful, detailed, and polite answers to the user's questions.\\n<</SYS>>\\nI will give you a sentence from {}. You need to reply with the sentiment expressed in the following sentence, either (1) positive or (2) negative.\\n[/INST]\\nSure!\\n</s><s>[INST]\\nSentence: {}\\nLabel:\\n[/INST]\"}\n"
          ]
        }
      ]
    },
    {
      "cell_type": "markdown",
      "source": [
        "### Use Vicuna"
      ],
      "metadata": {
        "id": "ALn1XBrNYLqB"
      },
      "id": "ALn1XBrNYLqB"
    },
    {
      "cell_type": "code",
      "source": [
        "# Load tokenizer and model\n",
        "models = ['lmsys/vicuna-13b-v1.5', 'WizardLM/WizardLM-13B-V1.2', 'meta-llama/Llama-2-13b-chat-hf']\n",
        "tokenizer = AutoTokenizer.from_pretrained(models[1])\n",
        "\n",
        "# Create a text generation pipeline\n",
        "model_pipeline = pipeline(\n",
        "    'text-generation',\n",
        "    model=model_name,\n",
        "    tokenizer=tokenizer,\n",
        "    dtype=torch.float16,\n",
        "    device_map='auto',\n",
        ")"
      ],
      "metadata": {
        "id": "MpmjqakgYPEu",
        "outputId": "2254cae3-512b-4816-a4d6-d358649cdf95",
        "colab": {
          "base_uri": "https://localhost:8080/",
          "height": 66,
          "referenced_widgets": [
            "92f3878633f24e7ebb20a461705502d5",
            "28ba6cbde0654ec384bbf4e07163800f",
            "6122f8d337b341c894341539be14b01f",
            "dd0ecc635bcf41ecaec65f345bb79881",
            "a6795fe025484cc3a1e4e3967aa59047",
            "8f78776062ca42c2b29e4774a67c5638",
            "f9683f8525f24cec9fd280a54ba38348",
            "fb7a5dcb28a6463a8e417f90d20f58b8",
            "1352964ec5b9493e82ab6cac52e43b51",
            "6ab4afec02484fb4ade454f0b0978f2e",
            "db35f907dce148afbff14d21e0b2735c"
          ]
        }
      },
      "id": "MpmjqakgYPEu",
      "execution_count": 28,
      "outputs": [
        {
          "output_type": "display_data",
          "data": {
            "text/plain": [
              "Loading checkpoint shards:   0%|          | 0/3 [00:00<?, ?it/s]"
            ],
            "application/vnd.jupyter.widget-view+json": {
              "version_major": 2,
              "version_minor": 0,
              "model_id": "92f3878633f24e7ebb20a461705502d5"
            }
          },
          "metadata": {}
        },
        {
          "output_type": "stream",
          "name": "stderr",
          "text": [
            "Device set to use cuda:0\n"
          ]
        }
      ]
    },
    {
      "cell_type": "code",
      "source": [
        "prompt = templates['vicuna-2']\n",
        "sentences = df['sentence'].tolist()[0:50] # For test purposes only the first 50 sentences.\n",
        "\n",
        "for sentence in sentences:\n",
        "    full_prompt = prompt.format(\"APP reviews\", sentence)\n",
        "    output = model_pipeline(\n",
        "          full_prompt,\n",
        "          max_length=2048,\n",
        "          temperature=0.7,\n",
        "          pad_token_id=tokenizer.pad_token_id,\n",
        "          eos_token_id=tokenizer.eos_token_id,\n",
        "          return_full_text=False\n",
        "    )\n",
        "\n",
        "    response = output[0]['generated_text'].strip()  # Extract just the label.\n",
        "    print(response)"
      ],
      "metadata": {
        "id": "D6m5fja6p47s",
        "outputId": "bb18d039-133e-4e94-a89e-0a767cc746aa",
        "colab": {
          "base_uri": "https://localhost:8080/"
        }
      },
      "id": "D6m5fja6p47s",
      "execution_count": 34,
      "outputs": [
        {
          "output_type": "stream",
          "name": "stdout",
          "text": [
            "The sentiment expressed in this sentence is negative.\n",
            "The sentiment expressed in the given sentence is negative.\n",
            "The sentiment expressed in this sentence is negative.\n",
            "The sentiment expressed in this sentence is negative.\n",
            "The sentiment expressed in this sentence is negative.\n",
            "The sentiment expressed in the sentence is initially negative, as the user mentions an annoying bug that occurs when using both the powertoggles notification bar widget and home screen widget. However, the user also provides a positive rating for the app, indicating that the bug does not occur anymore and that the app has a good concept overall.\n",
            "The sentiment expressed in the sentence is negative.\n",
            "The sentiment expressed in the given sentence is negative.\n",
            "The sentiment expressed in this sentence is neutral. The writer acknowledges that the app has some flaws, but also notes that it has some positive aspects, such as a good selection of routing options. However, the writer also mentions some negative experiences, such as bugs and occasional freezing, which may offset the positive aspects.\n",
            "The sentiment expressed in this sentence is negative.\n",
            "The sentiment expressed in this sentence is negative.\n",
            "The sentiment expressed in the following sentence is negative.\n",
            "The sentiment expressed in the given sentence is negative.\n",
            "The sentiment expressed in this sentence is negative.\n",
            "The sentiment expressed in this sentence is mixed. On one hand, the user is saying that the app is \"super fine\" and \"strongly recommended,\" which suggests a positive sentiment. However, the user also mentions that the app sometimes shows errors or late processing, which suggests a negative sentiment. Additionally, the user mentions that they are unable to update the app due to an error, which could be seen as a negative sentiment as well. Overall, the sentiment expressed in this sentence is mixed.\n",
            "The sentiment expressed in this sentence is negative.\n",
            "The sentiment expressed in the given sentence is negative.\n",
            "The sentiment expressed in this sentence is positive.\n",
            "The sentiment expressed in the sentence is neutral.\n",
            "The sentiment expressed in the given sentence is neutral. The user is acknowledging that the player is \"awesome\" and \"no doubt\" one of the best they have come across. However, they also mention some issues they have been facing since the last update, such as albums and songs not showing, and albums repeating. They are hoping for a fix, but also expressing a desire to continue using the player.\n",
            "The sentiment expressed in this sentence is negative.\n",
            "The sentiment expressed in the sentence is negative.\n",
            "The sentiment expressed in this sentence is negative.\n",
            "The sentiment expressed in this sentence is negative.\n",
            "The sentiment expressed in this sentence is negative.\n",
            "The sentiment expressed in this sentence is negative.\n",
            "The sentiment expressed in the sentence is positive.\n",
            "The sentiment expressed in the given sentence is negative.\n",
            "The sentiment expressed in the given sentence is negative. The user has mentioned that the app sometimes freezes and becomes unresponsive, which forces them to delete it and re-download it again. They have also mentioned that they love the app, but the issue needs to be fixed.\n",
            "The sentiment expressed in the sentence is negative.\n",
            "The sentiment expressed in this sentence is negative.\n",
            "The sentiment expressed in this sentence is negative.\n",
            "The sentiment expressed in this sentence is negative.\n",
            "The sentiment expressed in the given sentence is negative.\n",
            "The sentiment expressed in this sentence is negative.\n",
            "The sentiment expressed in this sentence is negative.\n",
            "The sentiment expressed in this sentence is negative.\n",
            "The sentiment expressed in the following sentence is: \"It's a good game but it freezes alot on my phone be careful\"\n",
            "The sentiment expressed in this sentence is negative.\n",
            "The sentiment expressed in the given sentence is negative.\n",
            "The sentiment expressed in this sentence is negative.\n",
            "The sentiment expressed in the given sentence is negative.\n",
            "The sentiment expressed in this sentence is negative.\n",
            "The sentiment expressed in the following sentence is negative.\n",
            "The sentiment expressed in the given sentence is negative.\n",
            "The sentiment expressed in this sentence is negative.\n",
            "The sentiment expressed in this sentence is negative.\n",
            "The sentiment expressed in this sentence is negative.\n",
            "The sentiment expressed in this sentence is negative.\n",
            "The sentiment expressed in this sentence is negative.\n",
            "The sentiment expressed in the given sentence is negative.\n",
            "The sentiment expressed in this sentence is negative.\n",
            "The sentiment expressed in the following sentence is negative.\n",
            "The sentiment expressed in this sentence is negative.\n",
            "The sentiment expressed in the following sentence is negative.\n",
            "The sentiment expressed in this sentence is negative.\n",
            "The sentiment expressed in the given sentence is negative.\n",
            "The sentiment expressed in the following sentence is negative.\n",
            "The sentiment expressed in the following sentence is negative.\n",
            "The sentiment expressed in the given sentence is negative.\n",
            "The sentiment expressed in this sentence is negative.\n",
            "The sentiment expressed in this sentence is negative.\n",
            "The sentiment expressed in this sentence is negative.\n",
            "The sentiment expressed in the following sentence is neutral.\n",
            "The sentiment expressed in this sentence is negative.\n",
            "The sentiment expressed in the given sentence is negative.\n",
            "The sentiment expressed in the given sentence is negative.\n",
            "The sentiment expressed in this sentence is negative.\n",
            "The sentiment expressed in the given sentence is neutral. The user has expressed their love for the app but also mentioned an issue they have faced. They have rated the app with 3 stars and requested a response to their issue.\n",
            "The sentiment expressed in this sentence is negative.\n",
            "The sentiment expressed in this sentence is negative.\n",
            "The sentiment expressed in the following sentence is negative.\n",
            "The sentiment expressed in the following sentence is negative.\n",
            "The sentiment expressed in the sentence is negative.\n",
            "The sentiment expressed in the given sentence is negative.\n",
            "The sentiment expressed in this sentence is negative.\n",
            "The sentiment expressed in this sentence is negative.\n",
            "The sentiment expressed in this sentence is neutral. The user likes the app a lot but also mentions that it regularly locks up the homescreen widget. They hope this information helps solve the issue and rate the app 5 stars if it weren't for the locking up problem.\n",
            "The sentiment expressed in the following sentence is negative.\n",
            "The sentiment expressed in the sentence is negative.\n",
            "The sentiment expressed in the given sentence is negative.\n",
            "The sentiment expressed in the sentence is neutral.\n",
            "The sentiment expressed in this sentence is negative.\n",
            "The sentiment expressed in this sentence is negative.\n",
            "The sentiment expressed in the following sentence is negative.\n",
            "The sentiment expressed in the following sentence is negative.\n",
            "The sentiment expressed in the following sentence is neutral.\n",
            "The sentiment expressed in the sentence is negative.\n",
            "The sentiment expressed in this sentence is negative.\n",
            "The sentiment expressed in the sentence is negative.\n",
            "The sentiment expressed in the given sentence is negative.\n",
            "The sentiment expressed in the given sentence is negative.\n",
            "The sentiment expressed in this sentence is positive.\n",
            "The sentiment expressed in the sentence is negative.\n",
            "The sentiment expressed in the sentence is positive.\n",
            "The sentiment expressed in this sentence is positive.\n",
            "The sentiment expressed in the sentence is positive.\n",
            "The sentiment expressed in the given sentence is positive.\n",
            "The sentiment expressed in the following sentence is (1) positive.\n",
            "The sentiment expressed in the given sentence is neutral.\n"
          ]
        }
      ]
    }
  ],
  "metadata": {
    "language_info": {
      "name": "python"
    },
    "colab": {
      "provenance": [],
      "gpuType": "A100",
      "machine_shape": "hm"
    },
    "accelerator": "GPU",
    "kernelspec": {
      "name": "python3",
      "display_name": "Python 3"
    },
    "widgets": {
      "application/vnd.jupyter.widget-state+json": {
        "92f3878633f24e7ebb20a461705502d5": {
          "model_module": "@jupyter-widgets/controls",
          "model_name": "HBoxModel",
          "model_module_version": "1.5.0",
          "state": {
            "_dom_classes": [],
            "_model_module": "@jupyter-widgets/controls",
            "_model_module_version": "1.5.0",
            "_model_name": "HBoxModel",
            "_view_count": null,
            "_view_module": "@jupyter-widgets/controls",
            "_view_module_version": "1.5.0",
            "_view_name": "HBoxView",
            "box_style": "",
            "children": [
              "IPY_MODEL_28ba6cbde0654ec384bbf4e07163800f",
              "IPY_MODEL_6122f8d337b341c894341539be14b01f",
              "IPY_MODEL_dd0ecc635bcf41ecaec65f345bb79881"
            ],
            "layout": "IPY_MODEL_a6795fe025484cc3a1e4e3967aa59047"
          }
        },
        "28ba6cbde0654ec384bbf4e07163800f": {
          "model_module": "@jupyter-widgets/controls",
          "model_name": "HTMLModel",
          "model_module_version": "1.5.0",
          "state": {
            "_dom_classes": [],
            "_model_module": "@jupyter-widgets/controls",
            "_model_module_version": "1.5.0",
            "_model_name": "HTMLModel",
            "_view_count": null,
            "_view_module": "@jupyter-widgets/controls",
            "_view_module_version": "1.5.0",
            "_view_name": "HTMLView",
            "description": "",
            "description_tooltip": null,
            "layout": "IPY_MODEL_8f78776062ca42c2b29e4774a67c5638",
            "placeholder": "​",
            "style": "IPY_MODEL_f9683f8525f24cec9fd280a54ba38348",
            "value": "Loading checkpoint shards: 100%"
          }
        },
        "6122f8d337b341c894341539be14b01f": {
          "model_module": "@jupyter-widgets/controls",
          "model_name": "FloatProgressModel",
          "model_module_version": "1.5.0",
          "state": {
            "_dom_classes": [],
            "_model_module": "@jupyter-widgets/controls",
            "_model_module_version": "1.5.0",
            "_model_name": "FloatProgressModel",
            "_view_count": null,
            "_view_module": "@jupyter-widgets/controls",
            "_view_module_version": "1.5.0",
            "_view_name": "ProgressView",
            "bar_style": "success",
            "description": "",
            "description_tooltip": null,
            "layout": "IPY_MODEL_fb7a5dcb28a6463a8e417f90d20f58b8",
            "max": 3,
            "min": 0,
            "orientation": "horizontal",
            "style": "IPY_MODEL_1352964ec5b9493e82ab6cac52e43b51",
            "value": 3
          }
        },
        "dd0ecc635bcf41ecaec65f345bb79881": {
          "model_module": "@jupyter-widgets/controls",
          "model_name": "HTMLModel",
          "model_module_version": "1.5.0",
          "state": {
            "_dom_classes": [],
            "_model_module": "@jupyter-widgets/controls",
            "_model_module_version": "1.5.0",
            "_model_name": "HTMLModel",
            "_view_count": null,
            "_view_module": "@jupyter-widgets/controls",
            "_view_module_version": "1.5.0",
            "_view_name": "HTMLView",
            "description": "",
            "description_tooltip": null,
            "layout": "IPY_MODEL_6ab4afec02484fb4ade454f0b0978f2e",
            "placeholder": "​",
            "style": "IPY_MODEL_db35f907dce148afbff14d21e0b2735c",
            "value": " 3/3 [00:07&lt;00:00,  2.29s/it]"
          }
        },
        "a6795fe025484cc3a1e4e3967aa59047": {
          "model_module": "@jupyter-widgets/base",
          "model_name": "LayoutModel",
          "model_module_version": "1.2.0",
          "state": {
            "_model_module": "@jupyter-widgets/base",
            "_model_module_version": "1.2.0",
            "_model_name": "LayoutModel",
            "_view_count": null,
            "_view_module": "@jupyter-widgets/base",
            "_view_module_version": "1.2.0",
            "_view_name": "LayoutView",
            "align_content": null,
            "align_items": null,
            "align_self": null,
            "border": null,
            "bottom": null,
            "display": null,
            "flex": null,
            "flex_flow": null,
            "grid_area": null,
            "grid_auto_columns": null,
            "grid_auto_flow": null,
            "grid_auto_rows": null,
            "grid_column": null,
            "grid_gap": null,
            "grid_row": null,
            "grid_template_areas": null,
            "grid_template_columns": null,
            "grid_template_rows": null,
            "height": null,
            "justify_content": null,
            "justify_items": null,
            "left": null,
            "margin": null,
            "max_height": null,
            "max_width": null,
            "min_height": null,
            "min_width": null,
            "object_fit": null,
            "object_position": null,
            "order": null,
            "overflow": null,
            "overflow_x": null,
            "overflow_y": null,
            "padding": null,
            "right": null,
            "top": null,
            "visibility": null,
            "width": null
          }
        },
        "8f78776062ca42c2b29e4774a67c5638": {
          "model_module": "@jupyter-widgets/base",
          "model_name": "LayoutModel",
          "model_module_version": "1.2.0",
          "state": {
            "_model_module": "@jupyter-widgets/base",
            "_model_module_version": "1.2.0",
            "_model_name": "LayoutModel",
            "_view_count": null,
            "_view_module": "@jupyter-widgets/base",
            "_view_module_version": "1.2.0",
            "_view_name": "LayoutView",
            "align_content": null,
            "align_items": null,
            "align_self": null,
            "border": null,
            "bottom": null,
            "display": null,
            "flex": null,
            "flex_flow": null,
            "grid_area": null,
            "grid_auto_columns": null,
            "grid_auto_flow": null,
            "grid_auto_rows": null,
            "grid_column": null,
            "grid_gap": null,
            "grid_row": null,
            "grid_template_areas": null,
            "grid_template_columns": null,
            "grid_template_rows": null,
            "height": null,
            "justify_content": null,
            "justify_items": null,
            "left": null,
            "margin": null,
            "max_height": null,
            "max_width": null,
            "min_height": null,
            "min_width": null,
            "object_fit": null,
            "object_position": null,
            "order": null,
            "overflow": null,
            "overflow_x": null,
            "overflow_y": null,
            "padding": null,
            "right": null,
            "top": null,
            "visibility": null,
            "width": null
          }
        },
        "f9683f8525f24cec9fd280a54ba38348": {
          "model_module": "@jupyter-widgets/controls",
          "model_name": "DescriptionStyleModel",
          "model_module_version": "1.5.0",
          "state": {
            "_model_module": "@jupyter-widgets/controls",
            "_model_module_version": "1.5.0",
            "_model_name": "DescriptionStyleModel",
            "_view_count": null,
            "_view_module": "@jupyter-widgets/base",
            "_view_module_version": "1.2.0",
            "_view_name": "StyleView",
            "description_width": ""
          }
        },
        "fb7a5dcb28a6463a8e417f90d20f58b8": {
          "model_module": "@jupyter-widgets/base",
          "model_name": "LayoutModel",
          "model_module_version": "1.2.0",
          "state": {
            "_model_module": "@jupyter-widgets/base",
            "_model_module_version": "1.2.0",
            "_model_name": "LayoutModel",
            "_view_count": null,
            "_view_module": "@jupyter-widgets/base",
            "_view_module_version": "1.2.0",
            "_view_name": "LayoutView",
            "align_content": null,
            "align_items": null,
            "align_self": null,
            "border": null,
            "bottom": null,
            "display": null,
            "flex": null,
            "flex_flow": null,
            "grid_area": null,
            "grid_auto_columns": null,
            "grid_auto_flow": null,
            "grid_auto_rows": null,
            "grid_column": null,
            "grid_gap": null,
            "grid_row": null,
            "grid_template_areas": null,
            "grid_template_columns": null,
            "grid_template_rows": null,
            "height": null,
            "justify_content": null,
            "justify_items": null,
            "left": null,
            "margin": null,
            "max_height": null,
            "max_width": null,
            "min_height": null,
            "min_width": null,
            "object_fit": null,
            "object_position": null,
            "order": null,
            "overflow": null,
            "overflow_x": null,
            "overflow_y": null,
            "padding": null,
            "right": null,
            "top": null,
            "visibility": null,
            "width": null
          }
        },
        "1352964ec5b9493e82ab6cac52e43b51": {
          "model_module": "@jupyter-widgets/controls",
          "model_name": "ProgressStyleModel",
          "model_module_version": "1.5.0",
          "state": {
            "_model_module": "@jupyter-widgets/controls",
            "_model_module_version": "1.5.0",
            "_model_name": "ProgressStyleModel",
            "_view_count": null,
            "_view_module": "@jupyter-widgets/base",
            "_view_module_version": "1.2.0",
            "_view_name": "StyleView",
            "bar_color": null,
            "description_width": ""
          }
        },
        "6ab4afec02484fb4ade454f0b0978f2e": {
          "model_module": "@jupyter-widgets/base",
          "model_name": "LayoutModel",
          "model_module_version": "1.2.0",
          "state": {
            "_model_module": "@jupyter-widgets/base",
            "_model_module_version": "1.2.0",
            "_model_name": "LayoutModel",
            "_view_count": null,
            "_view_module": "@jupyter-widgets/base",
            "_view_module_version": "1.2.0",
            "_view_name": "LayoutView",
            "align_content": null,
            "align_items": null,
            "align_self": null,
            "border": null,
            "bottom": null,
            "display": null,
            "flex": null,
            "flex_flow": null,
            "grid_area": null,
            "grid_auto_columns": null,
            "grid_auto_flow": null,
            "grid_auto_rows": null,
            "grid_column": null,
            "grid_gap": null,
            "grid_row": null,
            "grid_template_areas": null,
            "grid_template_columns": null,
            "grid_template_rows": null,
            "height": null,
            "justify_content": null,
            "justify_items": null,
            "left": null,
            "margin": null,
            "max_height": null,
            "max_width": null,
            "min_height": null,
            "min_width": null,
            "object_fit": null,
            "object_position": null,
            "order": null,
            "overflow": null,
            "overflow_x": null,
            "overflow_y": null,
            "padding": null,
            "right": null,
            "top": null,
            "visibility": null,
            "width": null
          }
        },
        "db35f907dce148afbff14d21e0b2735c": {
          "model_module": "@jupyter-widgets/controls",
          "model_name": "DescriptionStyleModel",
          "model_module_version": "1.5.0",
          "state": {
            "_model_module": "@jupyter-widgets/controls",
            "_model_module_version": "1.5.0",
            "_model_name": "DescriptionStyleModel",
            "_view_count": null,
            "_view_module": "@jupyter-widgets/base",
            "_view_module_version": "1.2.0",
            "_view_name": "StyleView",
            "description_width": ""
          }
        }
      }
    }
  },
  "nbformat": 4,
  "nbformat_minor": 5
}
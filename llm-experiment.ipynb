{
  "cells": [
    {
      "cell_type": "markdown",
      "source": [
        "Clone github repo to have access to data files."
      ],
      "metadata": {
        "id": "5cIkMDLZXNhQ"
      },
      "id": "5cIkMDLZXNhQ"
    },
    {
      "cell_type": "code",
      "source": [
        "!git clone https://github.com/Hananxx/SentimentAnalysisPromptExp.git"
      ],
      "metadata": {
        "id": "iQX7G_GuXHOc",
        "outputId": "1a02474d-0ed3-4619-873f-2804c26f1439",
        "colab": {
          "base_uri": "https://localhost:8080/"
        }
      },
      "id": "iQX7G_GuXHOc",
      "execution_count": 11,
      "outputs": [
        {
          "output_type": "stream",
          "name": "stdout",
          "text": [
            "Cloning into 'SentimentAnalysisPromptExp'...\n",
            "remote: Enumerating objects: 35, done.\u001b[K\n",
            "remote: Counting objects: 100% (35/35), done.\u001b[K\n",
            "remote: Compressing objects: 100% (30/30), done.\u001b[K\n",
            "remote: Total 35 (delta 16), reused 9 (delta 2), pack-reused 0 (from 0)\u001b[K\n",
            "Receiving objects: 100% (35/35), 48.87 KiB | 8.14 MiB/s, done.\n",
            "Resolving deltas: 100% (16/16), done.\n"
          ]
        }
      ]
    },
    {
      "cell_type": "markdown",
      "id": "46a7dabf",
      "metadata": {
        "id": "46a7dabf"
      },
      "source": [
        "### Install and import needed packages"
      ]
    },
    {
      "cell_type": "code",
      "execution_count": 12,
      "id": "1ef91428",
      "metadata": {
        "vscode": {
          "languageId": "plaintext"
        },
        "id": "1ef91428",
        "outputId": "373f0c92-d42e-41ee-9128-f151a7c94711",
        "colab": {
          "base_uri": "https://localhost:8080/"
        },
        "collapsed": true
      },
      "outputs": [
        {
          "output_type": "stream",
          "name": "stdout",
          "text": [
            "Requirement already satisfied: transformers in /usr/local/lib/python3.12/dist-packages (4.56.1)\n",
            "Requirement already satisfied: torch in /usr/local/lib/python3.12/dist-packages (2.8.0+cu126)\n",
            "Requirement already satisfied: pandas in /usr/local/lib/python3.12/dist-packages (2.2.2)\n",
            "Requirement already satisfied: accelerate in /usr/local/lib/python3.12/dist-packages (1.10.1)\n",
            "Requirement already satisfied: filelock in /usr/local/lib/python3.12/dist-packages (from transformers) (3.19.1)\n",
            "Requirement already satisfied: huggingface-hub<1.0,>=0.34.0 in /usr/local/lib/python3.12/dist-packages (from transformers) (0.35.0)\n",
            "Requirement already satisfied: numpy>=1.17 in /usr/local/lib/python3.12/dist-packages (from transformers) (2.0.2)\n",
            "Requirement already satisfied: packaging>=20.0 in /usr/local/lib/python3.12/dist-packages (from transformers) (25.0)\n",
            "Requirement already satisfied: pyyaml>=5.1 in /usr/local/lib/python3.12/dist-packages (from transformers) (6.0.2)\n",
            "Requirement already satisfied: regex!=2019.12.17 in /usr/local/lib/python3.12/dist-packages (from transformers) (2024.11.6)\n",
            "Requirement already satisfied: requests in /usr/local/lib/python3.12/dist-packages (from transformers) (2.32.4)\n",
            "Requirement already satisfied: tokenizers<=0.23.0,>=0.22.0 in /usr/local/lib/python3.12/dist-packages (from transformers) (0.22.0)\n",
            "Requirement already satisfied: safetensors>=0.4.3 in /usr/local/lib/python3.12/dist-packages (from transformers) (0.6.2)\n",
            "Requirement already satisfied: tqdm>=4.27 in /usr/local/lib/python3.12/dist-packages (from transformers) (4.67.1)\n",
            "Requirement already satisfied: typing-extensions>=4.10.0 in /usr/local/lib/python3.12/dist-packages (from torch) (4.15.0)\n",
            "Requirement already satisfied: setuptools in /usr/local/lib/python3.12/dist-packages (from torch) (75.2.0)\n",
            "Requirement already satisfied: sympy>=1.13.3 in /usr/local/lib/python3.12/dist-packages (from torch) (1.13.3)\n",
            "Requirement already satisfied: networkx in /usr/local/lib/python3.12/dist-packages (from torch) (3.5)\n",
            "Requirement already satisfied: jinja2 in /usr/local/lib/python3.12/dist-packages (from torch) (3.1.6)\n",
            "Requirement already satisfied: fsspec in /usr/local/lib/python3.12/dist-packages (from torch) (2025.3.0)\n",
            "Requirement already satisfied: nvidia-cuda-nvrtc-cu12==12.6.77 in /usr/local/lib/python3.12/dist-packages (from torch) (12.6.77)\n",
            "Requirement already satisfied: nvidia-cuda-runtime-cu12==12.6.77 in /usr/local/lib/python3.12/dist-packages (from torch) (12.6.77)\n",
            "Requirement already satisfied: nvidia-cuda-cupti-cu12==12.6.80 in /usr/local/lib/python3.12/dist-packages (from torch) (12.6.80)\n",
            "Requirement already satisfied: nvidia-cudnn-cu12==9.10.2.21 in /usr/local/lib/python3.12/dist-packages (from torch) (9.10.2.21)\n",
            "Requirement already satisfied: nvidia-cublas-cu12==12.6.4.1 in /usr/local/lib/python3.12/dist-packages (from torch) (12.6.4.1)\n",
            "Requirement already satisfied: nvidia-cufft-cu12==11.3.0.4 in /usr/local/lib/python3.12/dist-packages (from torch) (11.3.0.4)\n",
            "Requirement already satisfied: nvidia-curand-cu12==10.3.7.77 in /usr/local/lib/python3.12/dist-packages (from torch) (10.3.7.77)\n",
            "Requirement already satisfied: nvidia-cusolver-cu12==11.7.1.2 in /usr/local/lib/python3.12/dist-packages (from torch) (11.7.1.2)\n",
            "Requirement already satisfied: nvidia-cusparse-cu12==12.5.4.2 in /usr/local/lib/python3.12/dist-packages (from torch) (12.5.4.2)\n",
            "Requirement already satisfied: nvidia-cusparselt-cu12==0.7.1 in /usr/local/lib/python3.12/dist-packages (from torch) (0.7.1)\n",
            "Requirement already satisfied: nvidia-nccl-cu12==2.27.3 in /usr/local/lib/python3.12/dist-packages (from torch) (2.27.3)\n",
            "Requirement already satisfied: nvidia-nvtx-cu12==12.6.77 in /usr/local/lib/python3.12/dist-packages (from torch) (12.6.77)\n",
            "Requirement already satisfied: nvidia-nvjitlink-cu12==12.6.85 in /usr/local/lib/python3.12/dist-packages (from torch) (12.6.85)\n",
            "Requirement already satisfied: nvidia-cufile-cu12==1.11.1.6 in /usr/local/lib/python3.12/dist-packages (from torch) (1.11.1.6)\n",
            "Requirement already satisfied: triton==3.4.0 in /usr/local/lib/python3.12/dist-packages (from torch) (3.4.0)\n",
            "Requirement already satisfied: python-dateutil>=2.8.2 in /usr/local/lib/python3.12/dist-packages (from pandas) (2.9.0.post0)\n",
            "Requirement already satisfied: pytz>=2020.1 in /usr/local/lib/python3.12/dist-packages (from pandas) (2025.2)\n",
            "Requirement already satisfied: tzdata>=2022.7 in /usr/local/lib/python3.12/dist-packages (from pandas) (2025.2)\n",
            "Requirement already satisfied: psutil in /usr/local/lib/python3.12/dist-packages (from accelerate) (5.9.5)\n",
            "Requirement already satisfied: hf-xet<2.0.0,>=1.1.3 in /usr/local/lib/python3.12/dist-packages (from huggingface-hub<1.0,>=0.34.0->transformers) (1.1.10)\n",
            "Requirement already satisfied: six>=1.5 in /usr/local/lib/python3.12/dist-packages (from python-dateutil>=2.8.2->pandas) (1.17.0)\n",
            "Requirement already satisfied: mpmath<1.4,>=1.1.0 in /usr/local/lib/python3.12/dist-packages (from sympy>=1.13.3->torch) (1.3.0)\n",
            "Requirement already satisfied: MarkupSafe>=2.0 in /usr/local/lib/python3.12/dist-packages (from jinja2->torch) (3.0.2)\n",
            "Requirement already satisfied: charset_normalizer<4,>=2 in /usr/local/lib/python3.12/dist-packages (from requests->transformers) (3.4.3)\n",
            "Requirement already satisfied: idna<4,>=2.5 in /usr/local/lib/python3.12/dist-packages (from requests->transformers) (3.10)\n",
            "Requirement already satisfied: urllib3<3,>=1.21.1 in /usr/local/lib/python3.12/dist-packages (from requests->transformers) (2.5.0)\n",
            "Requirement already satisfied: certifi>=2017.4.17 in /usr/local/lib/python3.12/dist-packages (from requests->transformers) (2025.8.3)\n"
          ]
        }
      ],
      "source": [
        "!pip install transformers torch pandas accelerate"
      ]
    },
    {
      "cell_type": "code",
      "execution_count": 13,
      "id": "889fa6a5",
      "metadata": {
        "vscode": {
          "languageId": "plaintext"
        },
        "id": "889fa6a5"
      },
      "outputs": [],
      "source": [
        "import pandas as pd\n",
        "import json\n",
        "from transformers import pipeline, AutoTokenizer\n",
        "import torch\n",
        "from sklearn.metrics import accuracy_score, precision_recall_fscore_support"
      ]
    },
    {
      "cell_type": "markdown",
      "source": [
        "\n",
        "\n",
        "### Set filepath prefix"
      ],
      "metadata": {
        "id": "AQq4LPeJT4FR"
      },
      "id": "AQq4LPeJT4FR"
    },
    {
      "cell_type": "code",
      "source": [
        "filepath_prefix = \"SentimentAnalysisPromptExp/\""
      ],
      "metadata": {
        "id": "T-xyXWocVFvw"
      },
      "id": "T-xyXWocVFvw",
      "execution_count": 14,
      "outputs": []
    },
    {
      "cell_type": "markdown",
      "id": "3e848bad",
      "metadata": {
        "id": "3e848bad"
      },
      "source": [
        "### Load testing dataset"
      ]
    },
    {
      "cell_type": "code",
      "execution_count": 15,
      "id": "02589b3c",
      "metadata": {
        "vscode": {
          "languageId": "plaintext"
        },
        "id": "02589b3c",
        "outputId": "0cf2ceaa-c6d4-4a52-fe55-7f5158a5f03b",
        "colab": {
          "base_uri": "https://localhost:8080/"
        }
      },
      "outputs": [
        {
          "output_type": "stream",
          "name": "stdout",
          "text": [
            "                                            sentence  label\n",
            "0                  its nice this apps is must lovely      1\n",
            "1        this is really good this app is really good      1\n",
            "2  ? freezes and force closes a lot on droid incr...      2\n",
            "3  favorite i use this application every day is v...      1\n",
            "4  ? probally the biggest flop ever. as soon as y...      2\n"
          ]
        }
      ],
      "source": [
        "df = pd.read_csv(filepath_prefix + 'data/app-test.csv')\n",
        "print(df.head())  # Inspect the first few rows"
      ]
    },
    {
      "cell_type": "markdown",
      "source": [
        "### Load templates and set the used template"
      ],
      "metadata": {
        "id": "jplWkzR9Xnyw"
      },
      "id": "jplWkzR9Xnyw"
    },
    {
      "cell_type": "code",
      "source": [
        "with open(filepath_prefix + 'prompts/zero-shot-prompt-template.json', 'r') as f:\n",
        "    templates = json.load(f)\n",
        "print(templates)\n",
        "prompt = templates['vicuna-0']"
      ],
      "metadata": {
        "id": "2NeiQrHnXqZ3",
        "outputId": "b9f5a3d5-8eec-4b31-f18c-cf8fcfea0810",
        "colab": {
          "base_uri": "https://localhost:8080/"
        }
      },
      "id": "2NeiQrHnXqZ3",
      "execution_count": 16,
      "outputs": [
        {
          "output_type": "stream",
          "name": "stdout",
          "text": [
            "{'vicuna-0': \"A chat between a curious user and an artificial intelligence assistant. The assistant gives helpful, detailed, and polite answers to the user's questions.\\nUSER: Please perform Sentiment Classification task. Given the sentence from {}, assign a sentiment label from ['negative', 'neutral', 'positive']. Return label only without any other text.\\nASSISTANT: Sure!</s>\\nUSER: Sentence: {}\\nASSISTANT:\", 'vicuna-jira-0': \"A chat between a curious user and an artificial intelligence assistant. The assistant gives helpful, detailed, and polite answers to the user's questions.\\nUSER: Please perform Sentiment Classification task. Given the sentence from {}, assign a sentiment label from ['negative', 'positive']. Return label only without any other text.\\nASSISTANT: Sure!</s>\\nUSER: Sentence: {}\\nASSISTANT:\", 'llama2-0': \"<s>[INST] <<SYS>>\\nA chat between a curious user and an artificial intelligence assistant. The assistant gives helpful, detailed, and polite answers to the user's questions.\\n<</SYS>>\\nPlease perform Sentiment Classification task. Given the sentence from {}, assign a sentiment label from ['negative', 'neutral', 'positive']. Return label only without any other text.\\n[/INST]\\nSure!\\n</s><s>[INST]\\nSentence: {}\\nLabel:\\n[/INST]\", 'llama2-jira-0': \"<s>[INST] <<SYS>>\\nA chat between a curious user and an artificial intelligence assistant. The assistant gives helpful, detailed, and polite answers to the user's questions.\\n<</SYS>>\\nPlease perform Sentiment Classification task. Given the sentence from {}, assign a sentiment label from ['negative', 'positive']. Return label only without any other text.\\n[/INST]\\nSure!\\n</s><s>[INST]\\nSentence: {}\\nLabel:\\n[/INST]\", 'vicuna-1': \"A chat between a curious user and an artificial intelligence assistant. The assistant gives helpful, detailed, and polite answers to the user's questions.\\nUSER: Please categorize the sentiment expressed in the following sentence from {} as either (1) positive, (2) neutral, or (3) negative.\\nASSISTANT: Sure!</s>\\nUSER: Sentence: {}\\nASSISTANT:\", 'vicuna-jira-1': \"A chat between a curious user and an artificial intelligence assistant. The assistant gives helpful, detailed, and polite answers to the user's questions.\\nUSER: Please categorize the sentiment expressed in the following sentence from {} as either (1) positive or (2) negative.\\nASSISTANT: Sure!</s>\\nUSER: Sentence: {}\\nASSISTANT:\", 'llama2-1': \"<s>[INST] <<SYS>>\\nA chat between a curious user and an artificial intelligence assistant. The assistant gives helpful, detailed, and polite answers to the user's questions.\\n<</SYS>>\\nPlease categorize the sentiment expressed in the following sentence from {} as either (1) positive, (2) neutral, or (3) negative.\\n[/INST]\\nSure!\\n</s><s>[INST]\\nSentence: {}\\nLabel:\\n[/INST]\", 'llama2-jira-1': \"<s>[INST] <<SYS>>\\nA chat between a curious user and an artificial intelligence assistant. The assistant gives helpful, detailed, and polite answers to the user's questions.\\n<</SYS>>\\nPlease categorize the sentiment expressed in the following sentence from {} as either (1) positive or (2) negative.\\n[/INST]\\nSure!\\n</s><s>[INST]\\nSentence: {}\\nLabel:\\n[/INST]\", 'vicuna-2': \"A chat between a curious user and an artificial intelligence assistant. The assistant gives helpful, detailed, and polite answers to the user's questions.\\nUSER: I will give you a sentence from {}. You need to reply with the sentiment expressed in the following sentence, either (1) positive, (2) neutral, or (3) negative.\\nASSISTANT: Sure!</s>\\nUSER: Sentence: {}\\nASSISTANT:\", 'vicuna-jira-2': \"A chat between a curious user and an artificial intelligence assistant. The assistant gives helpful, detailed, and polite answers to the user's questions.\\nUSER: I will give you a sentence from {}. You need to reply with the sentiment expressed in the following sentence, either (1) positive or (2) negative.\\nASSISTANT: Sure!</s>\\nUSER: Sentence: {}\\nASSISTANT:\", 'llama2-2': \"<s>[INST] <<SYS>>\\nA chat between a curious user and an artificial intelligence assistant. The assistant gives helpful, detailed, and polite answers to the user's questions.\\n<</SYS>>\\nI will give you a sentence from {}. You need to reply with the sentiment expressed in the following sentence, either (1) positive, (2) neutral, or (3) negative.\\n[/INST]\\nSure!\\n</s><s>[INST]\\nSentence: {}\\nLabel:\\n[/INST]\", 'llama2-jira-2': \"<s>[INST] <<SYS>>\\nA chat between a curious user and an artificial intelligence assistant. The assistant gives helpful, detailed, and polite answers to the user's questions.\\n<</SYS>>\\nI will give you a sentence from {}. You need to reply with the sentiment expressed in the following sentence, either (1) positive or (2) negative.\\n[/INST]\\nSure!\\n</s><s>[INST]\\nSentence: {}\\nLabel:\\n[/INST]\"}\n"
          ]
        }
      ]
    },
    {
      "cell_type": "markdown",
      "source": [
        "### Load sentences"
      ],
      "metadata": {
        "id": "dffwvXLi9CSt"
      },
      "id": "dffwvXLi9CSt"
    },
    {
      "cell_type": "code",
      "source": [
        "sentences = df['sentence'].tolist() # For test purposes only the first 50 sentences."
      ],
      "metadata": {
        "id": "JAI_Fx439DKP"
      },
      "id": "JAI_Fx439DKP",
      "execution_count": 17,
      "outputs": []
    },
    {
      "cell_type": "markdown",
      "source": [
        "### Extract sentiment labels from different responses"
      ],
      "metadata": {
        "id": "8yg-vqrTG1sj"
      },
      "id": "8yg-vqrTG1sj"
    },
    {
      "cell_type": "code",
      "source": [
        "def extract_sentiment_label(response):\n",
        "    labels = ['positive', 'negative', 'neutral']\n",
        "    for label in labels:\n",
        "        if label in response:\n",
        "            return label\n",
        "    return None  # if no label found"
      ],
      "metadata": {
        "id": "E5mAEMQ4G7dT"
      },
      "id": "E5mAEMQ4G7dT",
      "execution_count": 18,
      "outputs": []
    },
    {
      "cell_type": "markdown",
      "source": [
        "### Load tokenizer and model"
      ],
      "metadata": {
        "id": "ALn1XBrNYLqB"
      },
      "id": "ALn1XBrNYLqB"
    },
    {
      "cell_type": "code",
      "source": [
        "models = ['lmsys/vicuna-13b-v1.5', 'WizardLM/WizardLM-13B-V1.2', 'meta-llama/Llama-2-13b-chat-hf']\n",
        "def load_model(model_name):\n",
        "    model_output = []\n",
        "    tokenizer = AutoTokenizer.from_pretrained(model_name)\n",
        "    # create a text generation pipeline\n",
        "    model_pipeline = pipeline(\n",
        "        'text-generation',\n",
        "        model=model_name,\n",
        "        tokenizer=tokenizer,\n",
        "        dtype=torch.float16,\n",
        "        device_map='auto',\n",
        "    )\n",
        "\n",
        "    for sentence in sentences:\n",
        "        full_prompt = prompt.format(\"APP reviews\", sentence)\n",
        "        output = model_pipeline(\n",
        "            full_prompt,\n",
        "            max_new_tokens=1024,\n",
        "            # max_new_tokens= 512,\n",
        "            temperature=0.7,\n",
        "            pad_token_id=tokenizer.pad_token_id,\n",
        "            eos_token_id=tokenizer.eos_token_id,\n",
        "            return_full_text=False\n",
        "        )\n",
        "        response = output[0]['generated_text'].strip()  # Extract just the label.\n",
        "        model_output.append(extract_sentiment_label(response.lower()))\n",
        "\n",
        "    print(model_output)\n",
        "    return model_output"
      ],
      "metadata": {
        "id": "MpmjqakgYPEu"
      },
      "id": "MpmjqakgYPEu",
      "execution_count": 19,
      "outputs": []
    },
    {
      "cell_type": "markdown",
      "source": [
        "### Post process metrics"
      ],
      "metadata": {
        "id": "U_jI221W9uiz"
      },
      "id": "U_jI221W9uiz"
    },
    {
      "cell_type": "code",
      "source": [
        "labels = { 0: 'neutral', 1: 'positive', 2: 'negative'}\n",
        "def get_data_frame(model_output):\n",
        "      return pd.DataFrame({\n",
        "        'text': df['sentence'].tolist(),\n",
        "        'true_label': [labels[label_num] for label_num in df['label'].tolist()],\n",
        "        'pred_label': model_output\n",
        "    })\n",
        "\n",
        "def calc_precision_recall_fscore(df, average='weighted'):\n",
        "  return precision_recall_fscore_support(\n",
        "    df['true_label'], df['pred_label'], average=average\n",
        ")"
      ],
      "metadata": {
        "id": "6CjIVLqRCC4Z"
      },
      "id": "6CjIVLqRCC4Z",
      "execution_count": 20,
      "outputs": []
    },
    {
      "cell_type": "markdown",
      "source": [
        "#### Weighted metrics"
      ],
      "metadata": {
        "id": "kFdISEExAxpo"
      },
      "id": "kFdISEExAxpo"
    },
    {
      "cell_type": "code",
      "source": [
        "def weighted_metrics(data_frame):\n",
        "    accuracy = accuracy_score(data_frame['true_label'], data_frame['pred_label'])\n",
        "    precision, recall, f1, _ = calc_precision_recall_fscore(data_frame, average='weighted')\n",
        "    print(f\"Accuracy: {accuracy:.2f}\")\n",
        "    print(f\"Precision: {precision:.2f}\")\n",
        "    print(f\"Recall: {recall:.2f}\")\n",
        "    print(f\"F1-Score: {f1:.2f}\")"
      ],
      "metadata": {
        "id": "CdWgXH2B9y1p"
      },
      "id": "CdWgXH2B9y1p",
      "execution_count": 21,
      "outputs": []
    },
    {
      "cell_type": "markdown",
      "source": [
        "#### Micro and Macro metrics"
      ],
      "metadata": {
        "id": "0aLEB4fiA2u7"
      },
      "id": "0aLEB4fiA2u7"
    },
    {
      "cell_type": "code",
      "source": [
        "def macro_metrics(df):\n",
        "    precision_macro, recall_macro, f1_macro, _ = calc_precision_recall_fscore(\n",
        "        df, average='macro'\n",
        "    )\n",
        "    print(f\"Macro Precision: {precision_macro:.2f}\")\n",
        "    print(f\"Macro Recall: {recall_macro:.2f}\")\n",
        "    print(f\"Macro F1-Score: {f1_macro:.2f}\")\n",
        "\n",
        "def micro_metrics(df):\n",
        "    precision_micro, recall_micro, f1_micro, _ = calc_precision_recall_fscore(\n",
        "    df, average='micro'\n",
        "    )\n",
        "    print(f\"Micro Precision: {precision_micro:.2f}\")\n",
        "    print(f\"Micro Recall: {recall_micro:.2f}\")\n",
        "    print(f\"Micro F1-Score: {f1_micro:.2f}\")"
      ],
      "metadata": {
        "id": "pfUuOw70A75e"
      },
      "id": "pfUuOw70A75e",
      "execution_count": 22,
      "outputs": []
    },
    {
      "cell_type": "code",
      "source": [
        "def calc_class_wise_metrics(df):\n",
        "    # Get class-wise precision, recall, f1-score\n",
        "    precision_per_class, recall_per_class, f1_per_class, support_per_class = precision_recall_fscore_support(\n",
        "        df['true_label'], df['pred_label'], average=None\n",
        "    )\n",
        "    # Get the list of classes (labels)\n",
        "    classes = sorted(df['true_label'].unique())\n",
        "    # Print metrics per class\n",
        "    print(\"Class-wise metrics:\")\n",
        "    for cls, p, r, f1, sup in zip(classes, precision_per_class, recall_per_class, f1_per_class, support_per_class):\n",
        "        print(f\"Class: {cls}\")\n",
        "        print(f\"  Precision: {p:.2f}\")\n",
        "        print(f\"  Recall:    {r:.2f}\")\n",
        "        print(f\"  F1-Score:  {f1:.2f}\")\n",
        "        print(f\"  Support:   {sup}\")\n",
        "        print()"
      ],
      "metadata": {
        "id": "unaWq5l1VTiJ"
      },
      "id": "unaWq5l1VTiJ",
      "execution_count": 25,
      "outputs": []
    },
    {
      "cell_type": "markdown",
      "source": [
        "### Start analysis - Vicuna model"
      ],
      "metadata": {
        "id": "qKscqo8I9TPb"
      },
      "id": "qKscqo8I9TPb"
    },
    {
      "cell_type": "code",
      "source": [
        "print('=====( Vicuna model output )=====')\n",
        "vicuna_output = load_model(models[0])\n",
        "print('=====( Vicuna model metrics )=====')\n",
        "vicuna_data_frame = get_data_frame(vicuna_output)\n",
        "calc_class_wise_metrics(vicuna_data_frame)\n",
        "weighted_metrics(vicuna_data_frame)\n",
        "print('=' * 20)\n",
        "macro_metrics(vicuna_data_frame)\n",
        "print('=' * 20)\n",
        "micro_metrics(vicuna_data_frame)"
      ],
      "metadata": {
        "id": "D6m5fja6p47s",
        "outputId": "c52184ed-85f6-4678-c1cf-bc4e2e130e80",
        "colab": {
          "base_uri": "https://localhost:8080/",
          "height": 664,
          "referenced_widgets": [
            "ccb4e1f63fd24c3490d41caa2231ded2",
            "d8d623d0e35b40a28ab48da35a3cde2b",
            "6127c97e090244a1ab0be119688fa117",
            "eac8c8ffbb574e83b56490ab59a385ab",
            "2e80d3d066254e1090cd4188717344ad",
            "bfc9d4ae5d2f4b14b08f78545cdab7b5",
            "c973468d378c4f84a85645b8ae79bc07",
            "9369c92947224a3e960fbb90a4dc3da7",
            "bc447514daf64c0583f640b6f8aa96cb",
            "49f6f658d74b4e85b7de9b5587bcd277",
            "325e5bb1afa740dd9108d08a99b34378"
          ]
        }
      },
      "id": "D6m5fja6p47s",
      "execution_count": 28,
      "outputs": [
        {
          "output_type": "stream",
          "name": "stdout",
          "text": [
            "=====( Vicuna model output )=====\n"
          ]
        },
        {
          "output_type": "display_data",
          "data": {
            "text/plain": [
              "Loading checkpoint shards:   0%|          | 0/3 [00:00<?, ?it/s]"
            ],
            "application/vnd.jupyter.widget-view+json": {
              "version_major": 2,
              "version_minor": 0,
              "model_id": "ccb4e1f63fd24c3490d41caa2231ded2"
            }
          },
          "metadata": {}
        },
        {
          "output_type": "stream",
          "name": "stderr",
          "text": [
            "Device set to use cuda:0\n"
          ]
        },
        {
          "output_type": "stream",
          "name": "stdout",
          "text": [
            "['positive', 'positive', 'negative', 'positive', 'negative', 'positive', 'negative', 'negative', 'positive', 'positive', 'positive', 'positive', 'positive', 'positive', 'positive', 'negative', 'negative', 'neutral', 'negative', 'positive', 'neutral', 'neutral', 'neutral', 'negative', 'negative', 'positive', 'positive', 'negative', 'positive', 'positive', 'positive', 'negative', 'negative', 'positive', 'positive']\n",
            "=====( Vicuna model metrics )=====\n",
            "Class-wise metrics:\n",
            "Class: negative\n",
            "  Precision: 1.00\n",
            "  Recall:    0.92\n",
            "  F1-Score:  0.96\n",
            "  Support:   13\n",
            "\n",
            "Class: neutral\n",
            "  Precision: 0.75\n",
            "  Recall:    1.00\n",
            "  F1-Score:  0.86\n",
            "  Support:   3\n",
            "\n",
            "Class: positive\n",
            "  Precision: 0.95\n",
            "  Recall:    0.95\n",
            "  F1-Score:  0.95\n",
            "  Support:   19\n",
            "\n",
            "Accuracy: 0.94\n",
            "Precision: 0.95\n",
            "Recall: 0.94\n",
            "F1-Score: 0.94\n",
            "====================\n",
            "Macro Precision: 0.90\n",
            "Macro Recall: 0.96\n",
            "Macro F1-Score: 0.92\n",
            "====================\n",
            "Micro Precision: 0.94\n",
            "Micro Recall: 0.94\n",
            "Micro F1-Score: 0.94\n"
          ]
        }
      ]
    },
    {
      "cell_type": "markdown",
      "source": [
        "### Analysis - WizardLM model"
      ],
      "metadata": {
        "id": "9P0IMPemELBh"
      },
      "id": "9P0IMPemELBh"
    },
    {
      "cell_type": "code",
      "source": [
        "print('=====( WizardLM model output )=====')\n",
        "wizardlm_output = load_model(models[1])\n",
        "print('=====( WizardLM model metrics )=====')\n",
        "wizardlm_data_frame = get_data_frame(wizardlm_output)\n",
        "calc_class_wise_metrics(wizardlm_data_frame)\n",
        "weighted_metrics(wizardlm_data_frame)\n",
        "print('=' * 20)\n",
        "macro_metrics(wizardlm_data_frame)\n",
        "print('=' * 20)\n",
        "micro_metrics(wizardlm_data_frame)"
      ],
      "metadata": {
        "colab": {
          "base_uri": "https://localhost:8080/"
        },
        "id": "D5zGXdtGEPop",
        "outputId": "de3c6d08-4766-4551-ae2f-a9513d56f094"
      },
      "id": "D5zGXdtGEPop",
      "execution_count": 29,
      "outputs": [
        {
          "output_type": "stream",
          "name": "stdout",
          "text": [
            "=====( WizardLM model output )=====\n"
          ]
        },
        {
          "output_type": "stream",
          "name": "stderr",
          "text": [
            "Device set to use cuda:0\n"
          ]
        },
        {
          "output_type": "stream",
          "name": "stdout",
          "text": [
            "['positive', 'positive', 'negative', 'positive', 'negative', 'positive', 'negative', 'negative', 'positive', 'positive', 'positive', 'positive', 'positive', 'positive', 'positive', 'negative', 'negative', 'neutral', 'negative', 'positive', 'positive', 'neutral', 'positive', 'positive', 'positive', 'positive', 'positive', 'negative', 'positive', 'positive', 'positive', 'negative', 'neutral', 'positive', 'positive']\n",
            "=====( WizardLM model metrics )=====\n",
            "Class-wise metrics:\n",
            "Class: negative\n",
            "  Precision: 1.00\n",
            "  Recall:    0.69\n",
            "  F1-Score:  0.82\n",
            "  Support:   13\n",
            "\n",
            "Class: neutral\n",
            "  Precision: 0.67\n",
            "  Recall:    0.67\n",
            "  F1-Score:  0.67\n",
            "  Support:   3\n",
            "\n",
            "Class: positive\n",
            "  Precision: 0.83\n",
            "  Recall:    1.00\n",
            "  F1-Score:  0.90\n",
            "  Support:   19\n",
            "\n",
            "Accuracy: 0.86\n",
            "Precision: 0.88\n",
            "Recall: 0.86\n",
            "F1-Score: 0.85\n",
            "====================\n",
            "Macro Precision: 0.83\n",
            "Macro Recall: 0.79\n",
            "Macro F1-Score: 0.80\n",
            "====================\n",
            "Micro Precision: 0.86\n",
            "Micro Recall: 0.86\n",
            "Micro F1-Score: 0.86\n"
          ]
        }
      ]
    }
  ],
  "metadata": {
    "language_info": {
      "name": "python"
    },
    "colab": {
      "provenance": [],
      "gpuType": "A100",
      "machine_shape": "hm"
    },
    "accelerator": "GPU",
    "kernelspec": {
      "name": "python3",
      "display_name": "Python 3"
    },
    "widgets": {
      "application/vnd.jupyter.widget-state+json": {
        "ccb4e1f63fd24c3490d41caa2231ded2": {
          "model_module": "@jupyter-widgets/controls",
          "model_name": "HBoxModel",
          "model_module_version": "1.5.0",
          "state": {
            "_dom_classes": [],
            "_model_module": "@jupyter-widgets/controls",
            "_model_module_version": "1.5.0",
            "_model_name": "HBoxModel",
            "_view_count": null,
            "_view_module": "@jupyter-widgets/controls",
            "_view_module_version": "1.5.0",
            "_view_name": "HBoxView",
            "box_style": "",
            "children": [
              "IPY_MODEL_d8d623d0e35b40a28ab48da35a3cde2b",
              "IPY_MODEL_6127c97e090244a1ab0be119688fa117",
              "IPY_MODEL_eac8c8ffbb574e83b56490ab59a385ab"
            ],
            "layout": "IPY_MODEL_2e80d3d066254e1090cd4188717344ad"
          }
        },
        "d8d623d0e35b40a28ab48da35a3cde2b": {
          "model_module": "@jupyter-widgets/controls",
          "model_name": "HTMLModel",
          "model_module_version": "1.5.0",
          "state": {
            "_dom_classes": [],
            "_model_module": "@jupyter-widgets/controls",
            "_model_module_version": "1.5.0",
            "_model_name": "HTMLModel",
            "_view_count": null,
            "_view_module": "@jupyter-widgets/controls",
            "_view_module_version": "1.5.0",
            "_view_name": "HTMLView",
            "description": "",
            "description_tooltip": null,
            "layout": "IPY_MODEL_bfc9d4ae5d2f4b14b08f78545cdab7b5",
            "placeholder": "​",
            "style": "IPY_MODEL_c973468d378c4f84a85645b8ae79bc07",
            "value": "Loading checkpoint shards: 100%"
          }
        },
        "6127c97e090244a1ab0be119688fa117": {
          "model_module": "@jupyter-widgets/controls",
          "model_name": "FloatProgressModel",
          "model_module_version": "1.5.0",
          "state": {
            "_dom_classes": [],
            "_model_module": "@jupyter-widgets/controls",
            "_model_module_version": "1.5.0",
            "_model_name": "FloatProgressModel",
            "_view_count": null,
            "_view_module": "@jupyter-widgets/controls",
            "_view_module_version": "1.5.0",
            "_view_name": "ProgressView",
            "bar_style": "success",
            "description": "",
            "description_tooltip": null,
            "layout": "IPY_MODEL_9369c92947224a3e960fbb90a4dc3da7",
            "max": 3,
            "min": 0,
            "orientation": "horizontal",
            "style": "IPY_MODEL_bc447514daf64c0583f640b6f8aa96cb",
            "value": 3
          }
        },
        "eac8c8ffbb574e83b56490ab59a385ab": {
          "model_module": "@jupyter-widgets/controls",
          "model_name": "HTMLModel",
          "model_module_version": "1.5.0",
          "state": {
            "_dom_classes": [],
            "_model_module": "@jupyter-widgets/controls",
            "_model_module_version": "1.5.0",
            "_model_name": "HTMLModel",
            "_view_count": null,
            "_view_module": "@jupyter-widgets/controls",
            "_view_module_version": "1.5.0",
            "_view_name": "HTMLView",
            "description": "",
            "description_tooltip": null,
            "layout": "IPY_MODEL_49f6f658d74b4e85b7de9b5587bcd277",
            "placeholder": "​",
            "style": "IPY_MODEL_325e5bb1afa740dd9108d08a99b34378",
            "value": " 3/3 [00:07&lt;00:00,  2.42s/it]"
          }
        },
        "2e80d3d066254e1090cd4188717344ad": {
          "model_module": "@jupyter-widgets/base",
          "model_name": "LayoutModel",
          "model_module_version": "1.2.0",
          "state": {
            "_model_module": "@jupyter-widgets/base",
            "_model_module_version": "1.2.0",
            "_model_name": "LayoutModel",
            "_view_count": null,
            "_view_module": "@jupyter-widgets/base",
            "_view_module_version": "1.2.0",
            "_view_name": "LayoutView",
            "align_content": null,
            "align_items": null,
            "align_self": null,
            "border": null,
            "bottom": null,
            "display": null,
            "flex": null,
            "flex_flow": null,
            "grid_area": null,
            "grid_auto_columns": null,
            "grid_auto_flow": null,
            "grid_auto_rows": null,
            "grid_column": null,
            "grid_gap": null,
            "grid_row": null,
            "grid_template_areas": null,
            "grid_template_columns": null,
            "grid_template_rows": null,
            "height": null,
            "justify_content": null,
            "justify_items": null,
            "left": null,
            "margin": null,
            "max_height": null,
            "max_width": null,
            "min_height": null,
            "min_width": null,
            "object_fit": null,
            "object_position": null,
            "order": null,
            "overflow": null,
            "overflow_x": null,
            "overflow_y": null,
            "padding": null,
            "right": null,
            "top": null,
            "visibility": null,
            "width": null
          }
        },
        "bfc9d4ae5d2f4b14b08f78545cdab7b5": {
          "model_module": "@jupyter-widgets/base",
          "model_name": "LayoutModel",
          "model_module_version": "1.2.0",
          "state": {
            "_model_module": "@jupyter-widgets/base",
            "_model_module_version": "1.2.0",
            "_model_name": "LayoutModel",
            "_view_count": null,
            "_view_module": "@jupyter-widgets/base",
            "_view_module_version": "1.2.0",
            "_view_name": "LayoutView",
            "align_content": null,
            "align_items": null,
            "align_self": null,
            "border": null,
            "bottom": null,
            "display": null,
            "flex": null,
            "flex_flow": null,
            "grid_area": null,
            "grid_auto_columns": null,
            "grid_auto_flow": null,
            "grid_auto_rows": null,
            "grid_column": null,
            "grid_gap": null,
            "grid_row": null,
            "grid_template_areas": null,
            "grid_template_columns": null,
            "grid_template_rows": null,
            "height": null,
            "justify_content": null,
            "justify_items": null,
            "left": null,
            "margin": null,
            "max_height": null,
            "max_width": null,
            "min_height": null,
            "min_width": null,
            "object_fit": null,
            "object_position": null,
            "order": null,
            "overflow": null,
            "overflow_x": null,
            "overflow_y": null,
            "padding": null,
            "right": null,
            "top": null,
            "visibility": null,
            "width": null
          }
        },
        "c973468d378c4f84a85645b8ae79bc07": {
          "model_module": "@jupyter-widgets/controls",
          "model_name": "DescriptionStyleModel",
          "model_module_version": "1.5.0",
          "state": {
            "_model_module": "@jupyter-widgets/controls",
            "_model_module_version": "1.5.0",
            "_model_name": "DescriptionStyleModel",
            "_view_count": null,
            "_view_module": "@jupyter-widgets/base",
            "_view_module_version": "1.2.0",
            "_view_name": "StyleView",
            "description_width": ""
          }
        },
        "9369c92947224a3e960fbb90a4dc3da7": {
          "model_module": "@jupyter-widgets/base",
          "model_name": "LayoutModel",
          "model_module_version": "1.2.0",
          "state": {
            "_model_module": "@jupyter-widgets/base",
            "_model_module_version": "1.2.0",
            "_model_name": "LayoutModel",
            "_view_count": null,
            "_view_module": "@jupyter-widgets/base",
            "_view_module_version": "1.2.0",
            "_view_name": "LayoutView",
            "align_content": null,
            "align_items": null,
            "align_self": null,
            "border": null,
            "bottom": null,
            "display": null,
            "flex": null,
            "flex_flow": null,
            "grid_area": null,
            "grid_auto_columns": null,
            "grid_auto_flow": null,
            "grid_auto_rows": null,
            "grid_column": null,
            "grid_gap": null,
            "grid_row": null,
            "grid_template_areas": null,
            "grid_template_columns": null,
            "grid_template_rows": null,
            "height": null,
            "justify_content": null,
            "justify_items": null,
            "left": null,
            "margin": null,
            "max_height": null,
            "max_width": null,
            "min_height": null,
            "min_width": null,
            "object_fit": null,
            "object_position": null,
            "order": null,
            "overflow": null,
            "overflow_x": null,
            "overflow_y": null,
            "padding": null,
            "right": null,
            "top": null,
            "visibility": null,
            "width": null
          }
        },
        "bc447514daf64c0583f640b6f8aa96cb": {
          "model_module": "@jupyter-widgets/controls",
          "model_name": "ProgressStyleModel",
          "model_module_version": "1.5.0",
          "state": {
            "_model_module": "@jupyter-widgets/controls",
            "_model_module_version": "1.5.0",
            "_model_name": "ProgressStyleModel",
            "_view_count": null,
            "_view_module": "@jupyter-widgets/base",
            "_view_module_version": "1.2.0",
            "_view_name": "StyleView",
            "bar_color": null,
            "description_width": ""
          }
        },
        "49f6f658d74b4e85b7de9b5587bcd277": {
          "model_module": "@jupyter-widgets/base",
          "model_name": "LayoutModel",
          "model_module_version": "1.2.0",
          "state": {
            "_model_module": "@jupyter-widgets/base",
            "_model_module_version": "1.2.0",
            "_model_name": "LayoutModel",
            "_view_count": null,
            "_view_module": "@jupyter-widgets/base",
            "_view_module_version": "1.2.0",
            "_view_name": "LayoutView",
            "align_content": null,
            "align_items": null,
            "align_self": null,
            "border": null,
            "bottom": null,
            "display": null,
            "flex": null,
            "flex_flow": null,
            "grid_area": null,
            "grid_auto_columns": null,
            "grid_auto_flow": null,
            "grid_auto_rows": null,
            "grid_column": null,
            "grid_gap": null,
            "grid_row": null,
            "grid_template_areas": null,
            "grid_template_columns": null,
            "grid_template_rows": null,
            "height": null,
            "justify_content": null,
            "justify_items": null,
            "left": null,
            "margin": null,
            "max_height": null,
            "max_width": null,
            "min_height": null,
            "min_width": null,
            "object_fit": null,
            "object_position": null,
            "order": null,
            "overflow": null,
            "overflow_x": null,
            "overflow_y": null,
            "padding": null,
            "right": null,
            "top": null,
            "visibility": null,
            "width": null
          }
        },
        "325e5bb1afa740dd9108d08a99b34378": {
          "model_module": "@jupyter-widgets/controls",
          "model_name": "DescriptionStyleModel",
          "model_module_version": "1.5.0",
          "state": {
            "_model_module": "@jupyter-widgets/controls",
            "_model_module_version": "1.5.0",
            "_model_name": "DescriptionStyleModel",
            "_view_count": null,
            "_view_module": "@jupyter-widgets/base",
            "_view_module_version": "1.2.0",
            "_view_name": "StyleView",
            "description_width": ""
          }
        }
      }
    }
  },
  "nbformat": 4,
  "nbformat_minor": 5
}
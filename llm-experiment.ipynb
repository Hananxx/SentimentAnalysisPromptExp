{
 "cells": [
  {
   "cell_type": "markdown",
   "id": "46a7dabf",
   "metadata": {},
   "source": [
    "### Install needed packages"
   ]
  },
  {
   "cell_type": "code",
   "execution_count": null,
   "id": "1ef91428",
   "metadata": {
    "vscode": {
     "languageId": "plaintext"
    }
   },
   "outputs": [],
   "source": [
    "!pip install transformers torch pandas accelerate"
   ]
  },
  {
   "cell_type": "code",
   "execution_count": null,
   "id": "889fa6a5",
   "metadata": {
    "vscode": {
     "languageId": "plaintext"
    }
   },
   "outputs": [],
   "source": [
    "import pandas as pd\n",
    "import json\n",
    "from transformers import pipeline, AutoTokenizer, AutoModelForCausalLM\n",
    "import torch"
   ]
  },
  {
   "cell_type": "markdown",
   "id": "3e848bad",
   "metadata": {},
   "source": [
    "### Load dataset"
   ]
  },
  {
   "cell_type": "code",
   "execution_count": null,
   "id": "02589b3c",
   "metadata": {
    "vscode": {
     "languageId": "plaintext"
    }
   },
   "outputs": [],
   "source": [
    "df = pd.read_csv('data/app.csv')\n",
    "print(df.head())  # Inspect the first few rows"
   ]
  }
 ],
 "metadata": {
  "language_info": {
   "name": "python"
  }
 },
 "nbformat": 4,
 "nbformat_minor": 5
}
